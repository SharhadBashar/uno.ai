{
 "cells": [
  {
   "cell_type": "markdown",
   "metadata": {
    "colab_type": "text",
    "id": "x_BkOtqBIKQz"
   },
   "source": [
    "# Data Science Challenge"
   ]
  },
  {
   "cell_type": "code",
   "execution_count": 1,
   "metadata": {
    "colab": {},
    "colab_type": "code",
    "id": "U_VthdACIKQ6"
   },
   "outputs": [],
   "source": [
    "# If you'd like to install packages that are not installed by default, uncomment the last two lines of this cell and replace <package list> with a list of your packages.\n",
    "# This will ensure your notebook has all the dependencies and works everywhere\n",
    "\n",
    "#import sys\n",
    "#!{sys.executable} -m pip install <package list>\n",
    "\n",
    "\n",
    "'''\n",
    "EDA:\n",
    "map showing number of employees per country\n",
    "map showing managers per country\n",
    "\n",
    "map showing avg salary per country\n",
    "map showing employment status per country\n",
    "\n",
    "map showing education per country\n",
    "\n",
    "salary per year/month trend\n",
    "'''"
   ]
  },
  {
   "cell_type": "code",
   "execution_count": 2,
   "metadata": {
    "colab": {},
    "colab_type": "code",
    "id": "VzGFUCCVIKRL"
   },
   "outputs": [],
   "source": [
    "#Libraries\n",
    "import pandas as pd\n",
    "pd.set_option(\"display.max_columns\", 101)"
   ]
  },
  {
   "cell_type": "markdown",
   "metadata": {
    "colab_type": "text",
    "id": "TZ23KNY8IKRT"
   },
   "source": [
    "## Data Description"
   ]
  },
  {
   "cell_type": "markdown",
   "metadata": {
    "colab_type": "text",
    "id": "jWSkqquEIKRW"
   },
   "source": [
    "Column | Description\n",
    ":---|:---\n",
    "`id` | Record index\n",
    "`timestamp` | Datetime (YYYY:MM:DD HH:MM:SS)\n",
    "`country` | Current country of employment\n",
    "`employment_status` | Employment status (Full time, Part time, Independent or freelancer)\n",
    "`job_title` | Current job title of the candidate\n",
    "`job_years` | No. of years working on the job\n",
    "`is_manager` | Whether the candidate holds a managerial position or not (Yes or No)\n",
    "`hours_per_week` | No. of hours per day committed to the current job\n",
    "`telecommute_days_per_week` | No. of telecommuting days per week (working from home)\n",
    "`education` | Highest degree in education the candidate has received\n",
    "`is_education_computer_related` | Is the education related to the field of computer science (Yes or No)\n",
    "`certifications` | Does the candidate have any relevant certifications (Yes or No)\n",
    "`salary` | Monthly Salary (in US $$)\n"
   ]
  },
  {
   "cell_type": "markdown",
   "metadata": {
    "colab_type": "text",
    "id": "BWQqx7cSIKRX"
   },
   "source": [
    "## Data Wrangling & Visualization"
   ]
  },
  {
   "cell_type": "code",
   "execution_count": 3,
   "metadata": {
    "colab": {},
    "colab_type": "code",
    "id": "SsjL7tf7IKRc"
   },
   "outputs": [],
   "source": [
    "# Dataset is already loaded below\n",
    "data = pd.read_csv(\"train.csv\")"
   ]
  },
  {
   "cell_type": "code",
   "execution_count": 16,
   "metadata": {
    "colab": {},
    "colab_type": "code",
    "id": "kzuHtZEkIKRh",
    "outputId": "9d14832c-2eda-48eb-df41-548113a94a73"
   },
   "outputs": [
    {
     "data": {
      "text/html": [
       "<div>\n",
       "<style scoped>\n",
       "    .dataframe tbody tr th:only-of-type {\n",
       "        vertical-align: middle;\n",
       "    }\n",
       "\n",
       "    .dataframe tbody tr th {\n",
       "        vertical-align: top;\n",
       "    }\n",
       "\n",
       "    .dataframe thead th {\n",
       "        text-align: right;\n",
       "    }\n",
       "</style>\n",
       "<table border=\"1\" class=\"dataframe\">\n",
       "  <thead>\n",
       "    <tr style=\"text-align: right;\">\n",
       "      <th></th>\n",
       "      <th>id</th>\n",
       "      <th>timestamp</th>\n",
       "      <th>country</th>\n",
       "      <th>employment_status</th>\n",
       "      <th>job_title</th>\n",
       "      <th>job_years</th>\n",
       "      <th>is_manager</th>\n",
       "      <th>hours_per_week</th>\n",
       "      <th>telecommute_days_per_week</th>\n",
       "      <th>education</th>\n",
       "      <th>is_education_computer_related</th>\n",
       "      <th>certifications</th>\n",
       "      <th>salary</th>\n",
       "    </tr>\n",
       "  </thead>\n",
       "  <tbody>\n",
       "    <tr>\n",
       "      <th>0</th>\n",
       "      <td>1</td>\n",
       "      <td>1544525546000000000</td>\n",
       "      <td>Slovenia</td>\n",
       "      <td>Full time</td>\n",
       "      <td>Developer</td>\n",
       "      <td>4.78393</td>\n",
       "      <td>Yes</td>\n",
       "      <td>40.0</td>\n",
       "      <td>0.0</td>\n",
       "      <td>Bachelors (4 years)</td>\n",
       "      <td>Yes</td>\n",
       "      <td>No</td>\n",
       "      <td>7187.743094</td>\n",
       "    </tr>\n",
       "    <tr>\n",
       "      <th>1</th>\n",
       "      <td>2</td>\n",
       "      <td>1483635470000000000</td>\n",
       "      <td>United States</td>\n",
       "      <td>Full time</td>\n",
       "      <td>DBA</td>\n",
       "      <td>5.00000</td>\n",
       "      <td>No</td>\n",
       "      <td>40.0</td>\n",
       "      <td>5.0</td>\n",
       "      <td>Bachelors (4 years)</td>\n",
       "      <td>Yes</td>\n",
       "      <td>No</td>\n",
       "      <td>10000.000000</td>\n",
       "    </tr>\n",
       "    <tr>\n",
       "      <th>2</th>\n",
       "      <td>3</td>\n",
       "      <td>1513584795000000000</td>\n",
       "      <td>Sweden</td>\n",
       "      <td>Full time</td>\n",
       "      <td>DBA</td>\n",
       "      <td>1.00000</td>\n",
       "      <td>No</td>\n",
       "      <td>40.0</td>\n",
       "      <td>0.0</td>\n",
       "      <td>Masters</td>\n",
       "      <td>Yes</td>\n",
       "      <td>Yes</td>\n",
       "      <td>7000.000000</td>\n",
       "    </tr>\n",
       "    <tr>\n",
       "      <th>3</th>\n",
       "      <td>4</td>\n",
       "      <td>1545886612000000000</td>\n",
       "      <td>United States</td>\n",
       "      <td>Full time</td>\n",
       "      <td>DBA</td>\n",
       "      <td>1.00000</td>\n",
       "      <td>No</td>\n",
       "      <td>40.0</td>\n",
       "      <td>2.0</td>\n",
       "      <td>Bachelors (4 years)</td>\n",
       "      <td>No</td>\n",
       "      <td>No</td>\n",
       "      <td>8333.000000</td>\n",
       "    </tr>\n",
       "    <tr>\n",
       "      <th>4</th>\n",
       "      <td>5</td>\n",
       "      <td>1544537278000000000</td>\n",
       "      <td>United States</td>\n",
       "      <td>Full time</td>\n",
       "      <td>Developer</td>\n",
       "      <td>3.00000</td>\n",
       "      <td>No</td>\n",
       "      <td>40.0</td>\n",
       "      <td>2.0</td>\n",
       "      <td>Masters</td>\n",
       "      <td>Yes</td>\n",
       "      <td>Yes</td>\n",
       "      <td>7137.000000</td>\n",
       "    </tr>\n",
       "  </tbody>\n",
       "</table>\n",
       "</div>"
      ],
      "text/plain": [
       "   id            timestamp        country employment_status  job_title  \\\n",
       "0   1  1544525546000000000       Slovenia         Full time  Developer   \n",
       "1   2  1483635470000000000  United States         Full time        DBA   \n",
       "2   3  1513584795000000000         Sweden         Full time        DBA   \n",
       "3   4  1545886612000000000  United States         Full time        DBA   \n",
       "4   5  1544537278000000000  United States         Full time  Developer   \n",
       "\n",
       "   job_years is_manager  hours_per_week  telecommute_days_per_week  \\\n",
       "0    4.78393        Yes            40.0                        0.0   \n",
       "1    5.00000         No            40.0                        5.0   \n",
       "2    1.00000         No            40.0                        0.0   \n",
       "3    1.00000         No            40.0                        2.0   \n",
       "4    3.00000         No            40.0                        2.0   \n",
       "\n",
       "             education is_education_computer_related certifications  \\\n",
       "0  Bachelors (4 years)                           Yes             No   \n",
       "1  Bachelors (4 years)                           Yes             No   \n",
       "2              Masters                           Yes            Yes   \n",
       "3  Bachelors (4 years)                            No             No   \n",
       "4              Masters                           Yes            Yes   \n",
       "\n",
       "         salary  \n",
       "0   7187.743094  \n",
       "1  10000.000000  \n",
       "2   7000.000000  \n",
       "3   8333.000000  \n",
       "4   7137.000000  "
      ]
     },
     "execution_count": 16,
     "metadata": {},
     "output_type": "execute_result"
    }
   ],
   "source": [
    "data['timestamp'] = pd.to_numeric(pd.to_datetime(data.timestamp))\n",
    "\n",
    "data.head()"
   ]
  },
  {
   "cell_type": "code",
   "execution_count": 4,
   "metadata": {
    "colab": {},
    "colab_type": "code",
    "id": "0mhMZRlBIKRu",
    "outputId": "0a669059-5528-4ec0-d64b-8231f6aadf45"
   },
   "outputs": [
    {
     "data": {
      "text/plain": [
       "Index(['id', 'timestamp', 'country', 'employment_status', 'job_title',\n",
       "       'job_years', 'is_manager', 'hours_per_week',\n",
       "       'telecommute_days_per_week', 'education',\n",
       "       'is_education_computer_related', 'certifications', 'salary'],\n",
       "      dtype='object')"
      ]
     },
     "execution_count": 4,
     "metadata": {},
     "output_type": "execute_result"
    }
   ],
   "source": [
    "#Explore columns\n",
    "data.columns"
   ]
  },
  {
   "cell_type": "code",
   "execution_count": 5,
   "metadata": {
    "colab": {},
    "colab_type": "code",
    "id": "-SrTmyfJIKR1",
    "outputId": "12b270ca-8c3f-402b-d6c1-286c17e63fdd"
   },
   "outputs": [
    {
     "data": {
      "text/html": [
       "<div>\n",
       "<style scoped>\n",
       "    .dataframe tbody tr th:only-of-type {\n",
       "        vertical-align: middle;\n",
       "    }\n",
       "\n",
       "    .dataframe tbody tr th {\n",
       "        vertical-align: top;\n",
       "    }\n",
       "\n",
       "    .dataframe thead th {\n",
       "        text-align: right;\n",
       "    }\n",
       "</style>\n",
       "<table border=\"1\" class=\"dataframe\">\n",
       "  <thead>\n",
       "    <tr style=\"text-align: right;\">\n",
       "      <th></th>\n",
       "      <th>id</th>\n",
       "      <th>job_years</th>\n",
       "      <th>hours_per_week</th>\n",
       "      <th>telecommute_days_per_week</th>\n",
       "      <th>salary</th>\n",
       "    </tr>\n",
       "  </thead>\n",
       "  <tbody>\n",
       "    <tr>\n",
       "      <th>count</th>\n",
       "      <td>4277.00000</td>\n",
       "      <td>4277.000000</td>\n",
       "      <td>4260.000000</td>\n",
       "      <td>4266.000000</td>\n",
       "      <td>4277.000000</td>\n",
       "    </tr>\n",
       "    <tr>\n",
       "      <th>mean</th>\n",
       "      <td>2139.00000</td>\n",
       "      <td>4.479697</td>\n",
       "      <td>40.859110</td>\n",
       "      <td>1.034927</td>\n",
       "      <td>7057.701984</td>\n",
       "    </tr>\n",
       "    <tr>\n",
       "      <th>std</th>\n",
       "      <td>1234.80788</td>\n",
       "      <td>1.990783</td>\n",
       "      <td>1.754911</td>\n",
       "      <td>1.651160</td>\n",
       "      <td>1308.572568</td>\n",
       "    </tr>\n",
       "    <tr>\n",
       "      <th>min</th>\n",
       "      <td>1.00000</td>\n",
       "      <td>0.000000</td>\n",
       "      <td>37.000000</td>\n",
       "      <td>0.000000</td>\n",
       "      <td>3622.000000</td>\n",
       "    </tr>\n",
       "    <tr>\n",
       "      <th>25%</th>\n",
       "      <td>1070.00000</td>\n",
       "      <td>3.407156</td>\n",
       "      <td>40.000000</td>\n",
       "      <td>0.000000</td>\n",
       "      <td>6496.788236</td>\n",
       "    </tr>\n",
       "    <tr>\n",
       "      <th>50%</th>\n",
       "      <td>2139.00000</td>\n",
       "      <td>4.640830</td>\n",
       "      <td>40.000000</td>\n",
       "      <td>0.000000</td>\n",
       "      <td>7166.000000</td>\n",
       "    </tr>\n",
       "    <tr>\n",
       "      <th>75%</th>\n",
       "      <td>3208.00000</td>\n",
       "      <td>5.000000</td>\n",
       "      <td>41.114138</td>\n",
       "      <td>1.000000</td>\n",
       "      <td>7614.831964</td>\n",
       "    </tr>\n",
       "    <tr>\n",
       "      <th>max</th>\n",
       "      <td>4277.00000</td>\n",
       "      <td>10.000000</td>\n",
       "      <td>45.000000</td>\n",
       "      <td>5.000000</td>\n",
       "      <td>10625.000000</td>\n",
       "    </tr>\n",
       "  </tbody>\n",
       "</table>\n",
       "</div>"
      ],
      "text/plain": [
       "               id    job_years  hours_per_week  telecommute_days_per_week  \\\n",
       "count  4277.00000  4277.000000     4260.000000                4266.000000   \n",
       "mean   2139.00000     4.479697       40.859110                   1.034927   \n",
       "std    1234.80788     1.990783        1.754911                   1.651160   \n",
       "min       1.00000     0.000000       37.000000                   0.000000   \n",
       "25%    1070.00000     3.407156       40.000000                   0.000000   \n",
       "50%    2139.00000     4.640830       40.000000                   0.000000   \n",
       "75%    3208.00000     5.000000       41.114138                   1.000000   \n",
       "max    4277.00000    10.000000       45.000000                   5.000000   \n",
       "\n",
       "             salary  \n",
       "count   4277.000000  \n",
       "mean    7057.701984  \n",
       "std     1308.572568  \n",
       "min     3622.000000  \n",
       "25%     6496.788236  \n",
       "50%     7166.000000  \n",
       "75%     7614.831964  \n",
       "max    10625.000000  "
      ]
     },
     "execution_count": 5,
     "metadata": {},
     "output_type": "execute_result"
    }
   ],
   "source": [
    "#Description\n",
    "data.describe()"
   ]
  },
  {
   "cell_type": "code",
   "execution_count": 6,
   "metadata": {
    "colab": {},
    "colab_type": "code",
    "id": "Vel-7S7gIKR9"
   },
   "outputs": [
    {
     "data": {
      "text/plain": [
       "array(['Slovenia', 'United States', 'Sweden', 'United Kingdom', 'Canada',\n",
       "       'New Zealand', 'Belgium', 'France', 'Australia', 'India',\n",
       "       'Denmark', 'Romania', 'Poland', 'Norway', 'Croatia', 'Netherlands',\n",
       "       'Hungary', 'Argentina', 'Costa Rica', 'Switzerland', 'Germany',\n",
       "       'Mexico', 'Ukraine', 'Spain', 'Czech Republic', 'Portugal',\n",
       "       'South Africa', 'Hong Kong', 'Russia', 'Ireland', 'Guernsey',\n",
       "       'Israel', 'Bulgaria', 'Uganda', 'Finland', 'Italy', 'Jersey',\n",
       "       'United Arab Emirates', 'Austria', 'Turkey', 'Bahrain', 'Greece',\n",
       "       'Colombia', 'Kenya', 'Peru', 'Saudi Arabia', 'Albania', 'Iceland',\n",
       "       'Guatemala', 'Belarus', 'Moldova', 'Puerto Rico', 'Brazil',\n",
       "       'Indonesia', 'Slovakia', 'Serbia and Montenegro', 'Singapore',\n",
       "       'Malta', 'Venezuela', 'Latvia', 'China', 'Ecuador', 'Pakistan',\n",
       "       'Vietnam', 'Bolivia', 'Paraguay', 'Thailand', 'Lithuania',\n",
       "       'Jordan', 'Macedonia', 'Malaysia', 'Luxembourg', 'Philippines',\n",
       "       'Syria', 'Ghana', 'Taiwan', 'Estonia', 'Uruguay'], dtype=object)"
      ]
     },
     "execution_count": 6,
     "metadata": {},
     "output_type": "execute_result"
    }
   ],
   "source": [
    "data.country.unique()"
   ]
  },
  {
   "cell_type": "code",
   "execution_count": 7,
   "metadata": {
    "colab": {},
    "colab_type": "code",
    "id": "fp1nvdh-IKSE"
   },
   "outputs": [
    {
     "data": {
      "text/plain": [
       "array(['Full time', 'Independent or freelancer or company owner',\n",
       "       'Part time'], dtype=object)"
      ]
     },
     "execution_count": 7,
     "metadata": {},
     "output_type": "execute_result"
    }
   ],
   "source": [
    "data.employment_status.unique()"
   ]
  },
  {
   "cell_type": "code",
   "execution_count": 7,
   "metadata": {
    "colab": {},
    "colab_type": "code",
    "id": "px5KNTQ7IKSK"
   },
   "outputs": [
    {
     "data": {
      "text/plain": [
       "array(['Developer', 'DBA', 'Other', 'Data Scientist', 'Manager',\n",
       "       'Architect', 'Analyst', 'Engineer', 'Sales',\n",
       "       'Analytics consultant', 'Principal database engineer',\n",
       "       'Sr Consultant '], dtype=object)"
      ]
     },
     "execution_count": 7,
     "metadata": {},
     "output_type": "execute_result"
    }
   ],
   "source": [
    "data.job_title.unique()"
   ]
  },
  {
   "cell_type": "code",
   "execution_count": 8,
   "metadata": {},
   "outputs": [
    {
     "data": {
      "text/plain": [
       "array(['Bachelors (4 years)', 'Masters', 'Associates (2 years)',\n",
       "       'None (no degree completed)', 'Doctorate/PhD'], dtype=object)"
      ]
     },
     "execution_count": 8,
     "metadata": {},
     "output_type": "execute_result"
    }
   ],
   "source": [
    "data.education.unique()"
   ]
  },
  {
   "cell_type": "code",
   "execution_count": 12,
   "metadata": {
    "colab": {},
    "colab_type": "code",
    "id": "W9B6xKGpIKSQ"
   },
   "outputs": [],
   "source": [
    "from sklearn.tree import DecisionTreeRegressor"
   ]
  },
  {
   "cell_type": "code",
   "execution_count": 22,
   "metadata": {},
   "outputs": [
    {
     "ename": "ValueError",
     "evalue": "could not convert string to float: 'Yes'",
     "output_type": "error",
     "traceback": [
      "\u001b[0;31m---------------------------------------------------------------------------\u001b[0m",
      "\u001b[0;31mValueError\u001b[0m                                Traceback (most recent call last)",
      "\u001b[0;32m<ipython-input-22-47aa9f46d7ef>\u001b[0m in \u001b[0;36m<module>\u001b[0;34m\u001b[0m\n\u001b[1;32m      5\u001b[0m \u001b[0mtrain_y\u001b[0m \u001b[0;34m=\u001b[0m \u001b[0mdata\u001b[0m\u001b[0;34m[\u001b[0m\u001b[0;34m[\u001b[0m\u001b[0;34m'salary'\u001b[0m\u001b[0;34m]\u001b[0m\u001b[0;34m]\u001b[0m\u001b[0;34m\u001b[0m\u001b[0;34m\u001b[0m\u001b[0m\n\u001b[1;32m      6\u001b[0m \u001b[0mmodel\u001b[0m \u001b[0;34m=\u001b[0m \u001b[0mDecisionTreeRegressor\u001b[0m\u001b[0;34m(\u001b[0m\u001b[0;34m)\u001b[0m\u001b[0;34m\u001b[0m\u001b[0;34m\u001b[0m\u001b[0m\n\u001b[0;32m----> 7\u001b[0;31m \u001b[0mmodel\u001b[0m\u001b[0;34m.\u001b[0m\u001b[0mfit\u001b[0m\u001b[0;34m(\u001b[0m\u001b[0mtrain_x\u001b[0m\u001b[0;34m,\u001b[0m \u001b[0mtrain_y\u001b[0m\u001b[0;34m)\u001b[0m\u001b[0;34m\u001b[0m\u001b[0;34m\u001b[0m\u001b[0m\n\u001b[0m",
      "\u001b[0;32m/opt/conda/lib/python3.7/site-packages/sklearn/tree/tree.py\u001b[0m in \u001b[0;36mfit\u001b[0;34m(self, X, y, sample_weight, check_input, X_idx_sorted)\u001b[0m\n\u001b[1;32m   1155\u001b[0m             \u001b[0msample_weight\u001b[0m\u001b[0;34m=\u001b[0m\u001b[0msample_weight\u001b[0m\u001b[0;34m,\u001b[0m\u001b[0;34m\u001b[0m\u001b[0;34m\u001b[0m\u001b[0m\n\u001b[1;32m   1156\u001b[0m             \u001b[0mcheck_input\u001b[0m\u001b[0;34m=\u001b[0m\u001b[0mcheck_input\u001b[0m\u001b[0;34m,\u001b[0m\u001b[0;34m\u001b[0m\u001b[0;34m\u001b[0m\u001b[0m\n\u001b[0;32m-> 1157\u001b[0;31m             X_idx_sorted=X_idx_sorted)\n\u001b[0m\u001b[1;32m   1158\u001b[0m         \u001b[0;32mreturn\u001b[0m \u001b[0mself\u001b[0m\u001b[0;34m\u001b[0m\u001b[0;34m\u001b[0m\u001b[0m\n\u001b[1;32m   1159\u001b[0m \u001b[0;34m\u001b[0m\u001b[0m\n",
      "\u001b[0;32m/opt/conda/lib/python3.7/site-packages/sklearn/tree/tree.py\u001b[0m in \u001b[0;36mfit\u001b[0;34m(self, X, y, sample_weight, check_input, X_idx_sorted)\u001b[0m\n\u001b[1;32m    128\u001b[0m         \u001b[0mrandom_state\u001b[0m \u001b[0;34m=\u001b[0m \u001b[0mcheck_random_state\u001b[0m\u001b[0;34m(\u001b[0m\u001b[0mself\u001b[0m\u001b[0;34m.\u001b[0m\u001b[0mrandom_state\u001b[0m\u001b[0;34m)\u001b[0m\u001b[0;34m\u001b[0m\u001b[0;34m\u001b[0m\u001b[0m\n\u001b[1;32m    129\u001b[0m         \u001b[0;32mif\u001b[0m \u001b[0mcheck_input\u001b[0m\u001b[0;34m:\u001b[0m\u001b[0;34m\u001b[0m\u001b[0;34m\u001b[0m\u001b[0m\n\u001b[0;32m--> 130\u001b[0;31m             \u001b[0mX\u001b[0m \u001b[0;34m=\u001b[0m \u001b[0mcheck_array\u001b[0m\u001b[0;34m(\u001b[0m\u001b[0mX\u001b[0m\u001b[0;34m,\u001b[0m \u001b[0mdtype\u001b[0m\u001b[0;34m=\u001b[0m\u001b[0mDTYPE\u001b[0m\u001b[0;34m,\u001b[0m \u001b[0maccept_sparse\u001b[0m\u001b[0;34m=\u001b[0m\u001b[0;34m\"csc\"\u001b[0m\u001b[0;34m)\u001b[0m\u001b[0;34m\u001b[0m\u001b[0;34m\u001b[0m\u001b[0m\n\u001b[0m\u001b[1;32m    131\u001b[0m             \u001b[0my\u001b[0m \u001b[0;34m=\u001b[0m \u001b[0mcheck_array\u001b[0m\u001b[0;34m(\u001b[0m\u001b[0my\u001b[0m\u001b[0;34m,\u001b[0m \u001b[0mensure_2d\u001b[0m\u001b[0;34m=\u001b[0m\u001b[0;32mFalse\u001b[0m\u001b[0;34m,\u001b[0m \u001b[0mdtype\u001b[0m\u001b[0;34m=\u001b[0m\u001b[0;32mNone\u001b[0m\u001b[0;34m)\u001b[0m\u001b[0;34m\u001b[0m\u001b[0;34m\u001b[0m\u001b[0m\n\u001b[1;32m    132\u001b[0m             \u001b[0;32mif\u001b[0m \u001b[0missparse\u001b[0m\u001b[0;34m(\u001b[0m\u001b[0mX\u001b[0m\u001b[0;34m)\u001b[0m\u001b[0;34m:\u001b[0m\u001b[0;34m\u001b[0m\u001b[0;34m\u001b[0m\u001b[0m\n",
      "\u001b[0;32m/opt/conda/lib/python3.7/site-packages/sklearn/utils/validation.py\u001b[0m in \u001b[0;36mcheck_array\u001b[0;34m(array, accept_sparse, accept_large_sparse, dtype, order, copy, force_all_finite, ensure_2d, allow_nd, ensure_min_samples, ensure_min_features, warn_on_dtype, estimator)\u001b[0m\n\u001b[1;32m    494\u001b[0m             \u001b[0;32mtry\u001b[0m\u001b[0;34m:\u001b[0m\u001b[0;34m\u001b[0m\u001b[0;34m\u001b[0m\u001b[0m\n\u001b[1;32m    495\u001b[0m                 \u001b[0mwarnings\u001b[0m\u001b[0;34m.\u001b[0m\u001b[0msimplefilter\u001b[0m\u001b[0;34m(\u001b[0m\u001b[0;34m'error'\u001b[0m\u001b[0;34m,\u001b[0m \u001b[0mComplexWarning\u001b[0m\u001b[0;34m)\u001b[0m\u001b[0;34m\u001b[0m\u001b[0;34m\u001b[0m\u001b[0m\n\u001b[0;32m--> 496\u001b[0;31m                 \u001b[0marray\u001b[0m \u001b[0;34m=\u001b[0m \u001b[0mnp\u001b[0m\u001b[0;34m.\u001b[0m\u001b[0masarray\u001b[0m\u001b[0;34m(\u001b[0m\u001b[0marray\u001b[0m\u001b[0;34m,\u001b[0m \u001b[0mdtype\u001b[0m\u001b[0;34m=\u001b[0m\u001b[0mdtype\u001b[0m\u001b[0;34m,\u001b[0m \u001b[0morder\u001b[0m\u001b[0;34m=\u001b[0m\u001b[0morder\u001b[0m\u001b[0;34m)\u001b[0m\u001b[0;34m\u001b[0m\u001b[0;34m\u001b[0m\u001b[0m\n\u001b[0m\u001b[1;32m    497\u001b[0m             \u001b[0;32mexcept\u001b[0m \u001b[0mComplexWarning\u001b[0m\u001b[0;34m:\u001b[0m\u001b[0;34m\u001b[0m\u001b[0;34m\u001b[0m\u001b[0m\n\u001b[1;32m    498\u001b[0m                 raise ValueError(\"Complex data not supported\\n\"\n",
      "\u001b[0;32m/opt/conda/lib/python3.7/site-packages/numpy/core/_asarray.py\u001b[0m in \u001b[0;36masarray\u001b[0;34m(a, dtype, order)\u001b[0m\n\u001b[1;32m     81\u001b[0m \u001b[0;34m\u001b[0m\u001b[0m\n\u001b[1;32m     82\u001b[0m     \"\"\"\n\u001b[0;32m---> 83\u001b[0;31m     \u001b[0;32mreturn\u001b[0m \u001b[0marray\u001b[0m\u001b[0;34m(\u001b[0m\u001b[0ma\u001b[0m\u001b[0;34m,\u001b[0m \u001b[0mdtype\u001b[0m\u001b[0;34m,\u001b[0m \u001b[0mcopy\u001b[0m\u001b[0;34m=\u001b[0m\u001b[0;32mFalse\u001b[0m\u001b[0;34m,\u001b[0m \u001b[0morder\u001b[0m\u001b[0;34m=\u001b[0m\u001b[0morder\u001b[0m\u001b[0;34m)\u001b[0m\u001b[0;34m\u001b[0m\u001b[0;34m\u001b[0m\u001b[0m\n\u001b[0m\u001b[1;32m     84\u001b[0m \u001b[0;34m\u001b[0m\u001b[0m\n\u001b[1;32m     85\u001b[0m \u001b[0;34m\u001b[0m\u001b[0m\n",
      "\u001b[0;31mValueError\u001b[0m: could not convert string to float: 'Yes'"
     ]
    }
   ],
   "source": [
    "train_x = data[['id', 'timestamp',\n",
    "       'job_years', 'is_manager', 'hours_per_week',\n",
    "       'telecommute_days_per_week', 'education',\n",
    "       'is_education_computer_related', 'certifications']]\n",
    "train_y = data[['salary']]\n",
    "model = DecisionTreeRegressor()\n",
    "model.fit(train_x, train_y)"
   ]
  },
  {
   "cell_type": "markdown",
   "metadata": {
    "colab_type": "text",
    "id": "ymsdDaIPIKSX"
   },
   "source": [
    "## Visualization, Modeling, Machine Learning\n",
    "\n",
    "Build a model that can predict  salary and identify how different features influence their decision. Please explain the findings effectively to technical and non-technical audiences using comments and visualizations, if appropriate.\n",
    "- **Build an optimized model that effectively solves the business problem.**\n",
    "- **The model will be evaluated on the basis of mean absolute error.**\n",
    "- **Read the test.csv file and prepare features for testing.**"
   ]
  },
  {
   "cell_type": "code",
   "execution_count": 4,
   "metadata": {
    "colab": {},
    "colab_type": "code",
    "id": "Hsxh3SMgIKSY",
    "outputId": "d98d0f00-f33f-407b-df59-a9915bb03fa1"
   },
   "outputs": [
    {
     "data": {
      "text/html": [
       "<div>\n",
       "<style scoped>\n",
       "    .dataframe tbody tr th:only-of-type {\n",
       "        vertical-align: middle;\n",
       "    }\n",
       "\n",
       "    .dataframe tbody tr th {\n",
       "        vertical-align: top;\n",
       "    }\n",
       "\n",
       "    .dataframe thead th {\n",
       "        text-align: right;\n",
       "    }\n",
       "</style>\n",
       "<table border=\"1\" class=\"dataframe\">\n",
       "  <thead>\n",
       "    <tr style=\"text-align: right;\">\n",
       "      <th></th>\n",
       "      <th>id</th>\n",
       "      <th>timestamp</th>\n",
       "      <th>country</th>\n",
       "      <th>employment_status</th>\n",
       "      <th>job_title</th>\n",
       "      <th>job_years</th>\n",
       "      <th>is_manager</th>\n",
       "      <th>hours_per_week</th>\n",
       "      <th>telecommute_days_per_week</th>\n",
       "      <th>education</th>\n",
       "      <th>is_education_computer_related</th>\n",
       "      <th>certifications</th>\n",
       "    </tr>\n",
       "  </thead>\n",
       "  <tbody>\n",
       "    <tr>\n",
       "      <th>0</th>\n",
       "      <td>1</td>\n",
       "      <td>12/13/2018 10:23:29</td>\n",
       "      <td>Ukraine</td>\n",
       "      <td>Full time</td>\n",
       "      <td>Developer</td>\n",
       "      <td>5.0</td>\n",
       "      <td>No</td>\n",
       "      <td>40.0</td>\n",
       "      <td>5</td>\n",
       "      <td>Doctorate/PhD</td>\n",
       "      <td>Yes</td>\n",
       "      <td>Yes</td>\n",
       "    </tr>\n",
       "    <tr>\n",
       "      <th>1</th>\n",
       "      <td>2</td>\n",
       "      <td>12/21/2017 3:51:48</td>\n",
       "      <td>United Kingdom</td>\n",
       "      <td>Full time</td>\n",
       "      <td>Developer</td>\n",
       "      <td>10.0</td>\n",
       "      <td>Yes</td>\n",
       "      <td>40.0</td>\n",
       "      <td>1</td>\n",
       "      <td>None (no degree completed)</td>\n",
       "      <td>Unknown</td>\n",
       "      <td>No</td>\n",
       "    </tr>\n",
       "    <tr>\n",
       "      <th>2</th>\n",
       "      <td>3</td>\n",
       "      <td>12/23/2017 12:31:05</td>\n",
       "      <td>United States</td>\n",
       "      <td>Full time</td>\n",
       "      <td>Developer</td>\n",
       "      <td>3.0</td>\n",
       "      <td>No</td>\n",
       "      <td>40.0</td>\n",
       "      <td>0</td>\n",
       "      <td>Associates (2 years)</td>\n",
       "      <td>Yes</td>\n",
       "      <td>Yes</td>\n",
       "    </tr>\n",
       "    <tr>\n",
       "      <th>3</th>\n",
       "      <td>4</td>\n",
       "      <td>12/14/2017 22:09:43</td>\n",
       "      <td>Canada</td>\n",
       "      <td>Full time</td>\n",
       "      <td>Analyst</td>\n",
       "      <td>5.0</td>\n",
       "      <td>No</td>\n",
       "      <td>40.0</td>\n",
       "      <td>0</td>\n",
       "      <td>Bachelors (4 years)</td>\n",
       "      <td>Yes</td>\n",
       "      <td>No</td>\n",
       "    </tr>\n",
       "    <tr>\n",
       "      <th>4</th>\n",
       "      <td>5</td>\n",
       "      <td>1/2/2018 13:29:11</td>\n",
       "      <td>United States</td>\n",
       "      <td>Full time</td>\n",
       "      <td>DBA</td>\n",
       "      <td>5.0</td>\n",
       "      <td>Yes</td>\n",
       "      <td>40.0</td>\n",
       "      <td>0</td>\n",
       "      <td>Bachelors (4 years)</td>\n",
       "      <td>Yes</td>\n",
       "      <td>No</td>\n",
       "    </tr>\n",
       "  </tbody>\n",
       "</table>\n",
       "</div>"
      ],
      "text/plain": [
       "   id            timestamp         country employment_status  job_title  \\\n",
       "0   1  12/13/2018 10:23:29         Ukraine         Full time  Developer   \n",
       "1   2   12/21/2017 3:51:48  United Kingdom         Full time  Developer   \n",
       "2   3  12/23/2017 12:31:05   United States         Full time  Developer   \n",
       "3   4  12/14/2017 22:09:43          Canada         Full time    Analyst   \n",
       "4   5    1/2/2018 13:29:11   United States         Full time        DBA   \n",
       "\n",
       "   job_years is_manager  hours_per_week  telecommute_days_per_week  \\\n",
       "0        5.0         No            40.0                          5   \n",
       "1       10.0        Yes            40.0                          1   \n",
       "2        3.0         No            40.0                          0   \n",
       "3        5.0         No            40.0                          0   \n",
       "4        5.0        Yes            40.0                          0   \n",
       "\n",
       "                    education is_education_computer_related certifications  \n",
       "0               Doctorate/PhD                           Yes            Yes  \n",
       "1  None (no degree completed)                       Unknown             No  \n",
       "2        Associates (2 years)                           Yes            Yes  \n",
       "3         Bachelors (4 years)                           Yes             No  \n",
       "4         Bachelors (4 years)                           Yes             No  "
      ]
     },
     "execution_count": 4,
     "metadata": {},
     "output_type": "execute_result"
    }
   ],
   "source": [
    "#Loading Test data\n",
    "test_data=pd.read_csv('test.csv')\n",
    "test_data.head()"
   ]
  },
  {
   "cell_type": "code",
   "execution_count": null,
   "metadata": {
    "colab": {},
    "colab_type": "code",
    "id": "73vBzp7lIKSf"
   },
   "outputs": [],
   "source": []
  },
  {
   "cell_type": "code",
   "execution_count": null,
   "metadata": {
    "colab": {},
    "colab_type": "code",
    "id": "1XiIoLYLIKSj"
   },
   "outputs": [],
   "source": []
  },
  {
   "cell_type": "code",
   "execution_count": null,
   "metadata": {
    "colab": {},
    "colab_type": "code",
    "id": "7tBCHjd3IKSp"
   },
   "outputs": [],
   "source": []
  },
  {
   "cell_type": "code",
   "execution_count": null,
   "metadata": {
    "colab": {},
    "colab_type": "code",
    "id": "1Vk1EEy9IKSv"
   },
   "outputs": [],
   "source": []
  },
  {
   "cell_type": "code",
   "execution_count": null,
   "metadata": {
    "colab": {},
    "colab_type": "code",
    "id": "nkQU41WSIKSz"
   },
   "outputs": [],
   "source": []
  },
  {
   "cell_type": "markdown",
   "metadata": {
    "colab_type": "text",
    "id": "MK_rdXETIKS4"
   },
   "source": [
    "\n",
    "\n",
    "**The management wants to know the most important features for the model.**\n",
    "\n",
    "> #### Task:\n",
    "- **Visualize the top 20 features and their feature importance.**\n"
   ]
  },
  {
   "cell_type": "code",
   "execution_count": null,
   "metadata": {
    "colab": {},
    "colab_type": "code",
    "id": "HHFM3XPMIKS6"
   },
   "outputs": [],
   "source": []
  },
  {
   "cell_type": "code",
   "execution_count": null,
   "metadata": {
    "colab": {},
    "colab_type": "code",
    "id": "jabG4TJwIKS_"
   },
   "outputs": [],
   "source": []
  },
  {
   "cell_type": "markdown",
   "metadata": {
    "colab_type": "text",
    "id": "UFogmgYZIKTE"
   },
   "source": [
    "> #### Task:\n",
    "- **Submit the predictions on the test dataset using the optimized model** <br/>\n",
    "    For each record in the test set (`test.csv`), predict the value of the `salary` variable. Submit a CSV file with a header row and one row per test entry. \n",
    "\n",
    "The file (`submissions.csv`) should have exactly 2 columns:\n",
    "   - **id**\n",
    "   - **salary**"
   ]
  },
  {
   "cell_type": "code",
   "execution_count": null,
   "metadata": {
    "colab": {},
    "colab_type": "code",
    "id": "7xgNg25MIKTG"
   },
   "outputs": [],
   "source": []
  },
  {
   "cell_type": "code",
   "execution_count": null,
   "metadata": {
    "colab": {},
    "colab_type": "code",
    "id": "OaxN7BjwIKTL"
   },
   "outputs": [],
   "source": []
  },
  {
   "cell_type": "code",
   "execution_count": null,
   "metadata": {
    "colab": {},
    "colab_type": "code",
    "id": "nBRVPrYbIKTQ"
   },
   "outputs": [],
   "source": [
    "#Submission\n",
    "submission_df.to_csv('submissions.csv',index=False)"
   ]
  },
  {
   "cell_type": "markdown",
   "metadata": {
    "colab_type": "text",
    "id": "H_pB8zTcIKTW"
   },
   "source": [
    "---"
   ]
  }
 ],
 "metadata": {
  "colab": {
   "collapsed_sections": [],
   "name": "Questions.ipynb",
   "provenance": []
  },
  "kernelspec": {
   "display_name": "Python 3",
   "language": "python",
   "name": "python3"
  },
  "language_info": {
   "codemirror_mode": {
    "name": "ipython",
    "version": 3
   },
   "file_extension": ".py",
   "mimetype": "text/x-python",
   "name": "python",
   "nbconvert_exporter": "python",
   "pygments_lexer": "ipython3",
   "version": "3.8.3"
  },
  "toc": {
   "base_numbering": 1,
   "nav_menu": {},
   "number_sections": true,
   "sideBar": true,
   "skip_h1_title": false,
   "title_cell": "Table of Contents",
   "title_sidebar": "Contents",
   "toc_cell": false,
   "toc_position": {},
   "toc_section_display": true,
   "toc_window_display": false
  }
 },
 "nbformat": 4,
 "nbformat_minor": 4
}

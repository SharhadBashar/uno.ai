{
 "cells": [
  {
   "cell_type": "markdown",
   "metadata": {},
   "source": [
    "# Data Science Challenge"
   ]
  },
  {
   "cell_type": "markdown",
   "metadata": {},
   "source": [
    "## Data Description\n",
    "Column | Description\n",
    ":---|:---\n",
    "`id` | Record index\n",
    "`timestamp` | Datetime (YYYY:MM:DD HH:MM:SS)\n",
    "`country` | Current country of employment\n",
    "`employment_status` | Employment status (Full time, Part time, Independent or freelancer)\n",
    "`job_title` | Current job title of the candidate\n",
    "`job_years` | No. of years working on the job\n",
    "`is_manager` | Whether the candidate holds a managerial position or not (Yes or No)\n",
    "`hours_per_week` | No. of hours per day committed to the current job\n",
    "`telecommute_days_per_week` | No. of telecommuting days per week (working from home)\n",
    "`education` | Highest degree in education the candidate has received\n",
    "`is_education_computer_related` | Is the education related to the field of computer science (Yes or No)\n",
    "`certifications` | Does the candidate have any relevant certifications (Yes or No)\n",
    "`salary` | Monthly Salary (in US $$)"
   ]
  },
  {
   "cell_type": "code",
   "execution_count": 516,
   "metadata": {
    "scrolled": true
   },
   "outputs": [],
   "source": [
    "import json\n",
    "import numpy as np\n",
    "import pandas as pd\n",
    "import geopandas as gpd\n",
    "from statistics import mean\n",
    "from datetime import datetime\n",
    "from collections import Counter\n",
    "import matplotlib.pyplot as plt\n",
    "from collections import defaultdict\n",
    "\n",
    "pd.set_option('display.max_columns', 101)"
   ]
  },
  {
   "cell_type": "code",
   "execution_count": 9,
   "metadata": {},
   "outputs": [],
   "source": [
    "class Data():\n",
    "    def __init__(self):\n",
    "        self.train = pd.read_csv('train.csv')\n",
    "        self.test = pd.read_csv('test.csv')"
   ]
  },
  {
   "cell_type": "code",
   "execution_count": 491,
   "metadata": {},
   "outputs": [
    {
     "name": "stdout",
     "output_type": "stream",
     "text": [
      "<class 'pandas.core.series.Series'>\n",
      "{'country': [], 'code': [], 'count': []}\n"
     ]
    }
   ],
   "source": []
  },
  {
   "cell_type": "code",
   "execution_count": 520,
   "metadata": {},
   "outputs": [],
   "source": [
    "class EDA(Data):\n",
    "    def __init__(self):\n",
    "        super().__init__()\n",
    "#         self.describe(self.train)\n",
    "#         self.simple_plot(self.train)\n",
    "#         self.range_plot(self.train)\n",
    "#         self.trend_plot(self.train)\n",
    "        self.map_plot(self.train)\n",
    "        \n",
    "    def describe(self, train):\n",
    "        print('Column Headers')\n",
    "        print(train.columns)\n",
    "        print()\n",
    "        print('Description of the numerical values of the data')\n",
    "        print(train.describe())\n",
    "        print()\n",
    "        print('Unique values for columns')\n",
    "        print('Countries:')\n",
    "        print(train.country.unique())\n",
    "        print()\n",
    "        print('Employment Status:')\n",
    "        print(train.employment_status.unique())\n",
    "        print()\n",
    "        print('Job Titles:')\n",
    "        print(train.job_title.unique())\n",
    "        print()\n",
    "        print('Education:')\n",
    "        print(train.education.unique())\n",
    "        print()\n",
    "        \n",
    "    def simple_plot(self, train):\n",
    "        train['country'].value_counts().plot(kind='bar', figsize = (20, 10), rot = 90)\n",
    "        plt.title('Country')\n",
    "        simple_count = {\n",
    "            'Emplyment Status': train['employment_status'].value_counts(),\n",
    "            'Job Title': train['job_title'].value_counts(),\n",
    "            'Manager': train['is_manager'].value_counts(),\n",
    "            'Education': train['education'].value_counts(),\n",
    "            'Computer Education': train['is_education_computer_related'].value_counts(),\n",
    "            'Certifications': train['certifications'].value_counts(),\n",
    "            'Telecommute Days per Week': train['telecommute_days_per_week'].value_counts()\n",
    "        }\n",
    "        figure, axis = plt.subplots(2, 3, figsize = (20, 10))\n",
    "        for i, (title, data) in enumerate(simple_count.items()):\n",
    "            axis[i // 3, i % 3].bar(data.index, data.values)\n",
    "            axis[i // 3, i % 3].set_title(title)\n",
    "            for tick in axis[i // 3, i % 3].get_xticklabels():\n",
    "                tick.set_rotation(90)\n",
    "        plt.subplots_adjust(top = 0.99, bottom = 0.01, hspace = 1.5, wspace = 0.4)\n",
    "        plt.show()\n",
    "    \n",
    "    def range_plot(self, train):\n",
    "        def data_range(data, breaks = 10):\n",
    "            low, high = data.min(), data.max()\n",
    "            x, y = np.linspace(low, high, num = breaks + 1), [0] * breaks\n",
    "            for value in data.values:\n",
    "                for i in range(len(x) - 1):\n",
    "                    if (value >= x[i] and value < x[i + 1]): y[i] += 1\n",
    "                if (value == high): y[-1] += 1\n",
    "            return dict(zip(x, y))\n",
    "        range_count = {\n",
    "            'Job Year': data_range(train['job_years']),\n",
    "            'Hours Per Week': data_range(train['hours_per_week']),\n",
    "            'Salary': data_range(train['salary'])\n",
    "        }\n",
    "        figure, axis = plt.subplots(3, 1, figsize = (15, 10))\n",
    "        for i, (title, data) in enumerate(range_count.items()):\n",
    "            axis[i % 3].bar(data.keys(), data.values(), width = 300 if title == 'Salary' else 0.5)\n",
    "            axis[i % 3].set_title(title)\n",
    "        plt.subplots_adjust(hspace = 0.25)\n",
    "        plt.show()\n",
    "        \n",
    "    def trend_plot(self, train):\n",
    "        # date = mm/dd/yyyy\n",
    "        trend_count = []\n",
    "        yyyymmdd = defaultdict(list)\n",
    "        for index, row in train.iterrows():\n",
    "            mm, dd, yyyy = row['timestamp'].split(' ')[0].split('/')\n",
    "            yyyymmdd[str(yyyy) + str(mm) + str(dd)].append(row['salary'])\n",
    "        for key, value in yyyymmdd.items():\n",
    "            trend_count.append([key, mean(value)])\n",
    "        plt.plot(*zip(*trend_count))\n",
    "        ax = plt.gca()\n",
    "        ax.axes.xaxis.set_visible(False)\n",
    "        plt.xlabel('Time')\n",
    "        plt.ylabel('Salary')\n",
    "        plt.title('Salary vs Time')\n",
    "        plt.rcParams[\"figure.figsize\"] = (15, 7)\n",
    "        plt.show()\n",
    "    \n",
    "    def map_plot(self, train):\n",
    "        countries = train['country'].unique()\n",
    "        print(country)\n",
    "        num_employees_manager_country = defaultdict(list)\n",
    "        avg_salary_employment_status_country = defaultdict(list)\n",
    "        education_country = defaultdict(list)\n",
    "        \n",
    "#         for country in countries:\n",
    "        row = train.loc[train['country'] == 'Sweden']\n",
    "        print(row)\n",
    "#         num_employees_manager_country[row['country']]\n",
    "        "
   ]
  },
  {
   "cell_type": "code",
   "execution_count": 521,
   "metadata": {
    "scrolled": false
   },
   "outputs": [
    {
     "name": "stdout",
     "output_type": "stream",
     "text": [
      "['Slovenia' 'United States' 'Sweden' 'United Kingdom' 'Canada'\n",
      " 'New Zealand' 'Belgium' 'France' 'Australia' 'India' 'Denmark' 'Romania'\n",
      " 'Poland' 'Norway' 'Croatia' 'Netherlands' 'Hungary' 'Argentina'\n",
      " 'Costa Rica' 'Switzerland' 'Germany' 'Mexico' 'Ukraine' 'Spain'\n",
      " 'Czech Republic' 'Portugal' 'South Africa' 'Hong Kong' 'Russia' 'Ireland'\n",
      " 'Guernsey' 'Israel' 'Bulgaria' 'Uganda' 'Finland' 'Italy' 'Jersey'\n",
      " 'United Arab Emirates' 'Austria' 'Turkey' 'Bahrain' 'Greece' 'Colombia'\n",
      " 'Kenya' 'Peru' 'Saudi Arabia' 'Albania' 'Iceland' 'Guatemala' 'Belarus'\n",
      " 'Moldova' 'Puerto Rico' 'Brazil' 'Indonesia' 'Slovakia'\n",
      " 'Serbia and Montenegro' 'Singapore' 'Malta' 'Venezuela' 'Latvia' 'China'\n",
      " 'Ecuador' 'Pakistan' 'Vietnam' 'Bolivia' 'Paraguay' 'Thailand'\n",
      " 'Lithuania' 'Jordan' 'Macedonia' 'Malaysia' 'Luxembourg' 'Philippines'\n",
      " 'Syria' 'Ghana' 'Taiwan' 'Estonia' 'Uruguay']\n"
     ]
    },
    {
     "data": {
      "text/plain": [
       "<__main__.EDA at 0x1459d1ca0>"
      ]
     },
     "execution_count": 521,
     "metadata": {},
     "output_type": "execute_result"
    }
   ],
   "source": [
    "EDA()"
   ]
  },
  {
   "cell_type": "code",
   "execution_count": 517,
   "metadata": {
    "scrolled": false
   },
   "outputs": [],
   "source": []
  },
  {
   "cell_type": "code",
   "execution_count": null,
   "metadata": {},
   "outputs": [],
   "source": []
  },
  {
   "cell_type": "code",
   "execution_count": null,
   "metadata": {},
   "outputs": [],
   "source": []
  }
 ],
 "metadata": {
  "kernelspec": {
   "display_name": "Python 3",
   "language": "python",
   "name": "python3"
  },
  "language_info": {
   "codemirror_mode": {
    "name": "ipython",
    "version": 3
   },
   "file_extension": ".py",
   "mimetype": "text/x-python",
   "name": "python",
   "nbconvert_exporter": "python",
   "pygments_lexer": "ipython3",
   "version": "3.8.3"
  }
 },
 "nbformat": 4,
 "nbformat_minor": 5
}
